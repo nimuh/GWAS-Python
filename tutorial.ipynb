{
 "cells": [
  {
   "cell_type": "code",
   "execution_count": 26,
   "metadata": {},
   "outputs": [],
   "source": [
    "import pandas as pd\n",
    "import itertools\n",
    "from scipy import stats"
   ]
  },
  {
   "cell_type": "code",
   "execution_count": null,
   "metadata": {},
   "outputs": [],
   "source": []
  },
  {
   "cell_type": "code",
   "execution_count": null,
   "metadata": {},
   "outputs": [],
   "source": []
  },
  {
   "cell_type": "code",
   "execution_count": null,
   "metadata": {},
   "outputs": [],
   "source": []
  },
  {
   "cell_type": "code",
   "execution_count": null,
   "metadata": {},
   "outputs": [],
   "source": []
  },
  {
   "cell_type": "markdown",
   "metadata": {},
   "source": [
    "### Read in the categorical phenotypes"
   ]
  },
  {
   "cell_type": "code",
   "execution_count": 27,
   "metadata": {},
   "outputs": [
    {
     "data": {
      "text/html": [
       "<div>\n",
       "<style scoped>\n",
       "    .dataframe tbody tr th:only-of-type {\n",
       "        vertical-align: middle;\n",
       "    }\n",
       "\n",
       "    .dataframe tbody tr th {\n",
       "        vertical-align: top;\n",
       "    }\n",
       "\n",
       "    .dataframe thead th {\n",
       "        text-align: right;\n",
       "    }\n",
       "</style>\n",
       "<table border=\"1\" class=\"dataframe\">\n",
       "  <thead>\n",
       "    <tr style=\"text-align: right;\">\n",
       "      <th></th>\n",
       "      <th>0</th>\n",
       "      <th>1</th>\n",
       "      <th>2</th>\n",
       "    </tr>\n",
       "  </thead>\n",
       "  <tbody>\n",
       "    <tr>\n",
       "      <th>0</th>\n",
       "      <td>HCB181</td>\n",
       "      <td>1</td>\n",
       "      <td>1</td>\n",
       "    </tr>\n",
       "    <tr>\n",
       "      <th>1</th>\n",
       "      <td>HCB182</td>\n",
       "      <td>1</td>\n",
       "      <td>1</td>\n",
       "    </tr>\n",
       "    <tr>\n",
       "      <th>2</th>\n",
       "      <td>HCB183</td>\n",
       "      <td>1</td>\n",
       "      <td>1</td>\n",
       "    </tr>\n",
       "    <tr>\n",
       "      <th>3</th>\n",
       "      <td>HCB184</td>\n",
       "      <td>1</td>\n",
       "      <td>1</td>\n",
       "    </tr>\n",
       "    <tr>\n",
       "      <th>4</th>\n",
       "      <td>HCB185</td>\n",
       "      <td>1</td>\n",
       "      <td>1</td>\n",
       "    </tr>\n",
       "  </tbody>\n",
       "</table>\n",
       "</div>"
      ],
      "text/plain": [
       "        0  1  2\n",
       "0  HCB181  1  1\n",
       "1  HCB182  1  1\n",
       "2  HCB183  1  1\n",
       "3  HCB184  1  1\n",
       "4  HCB185  1  1"
      ]
     },
     "execution_count": 27,
     "metadata": {},
     "output_type": "execute_result"
    }
   ],
   "source": [
    "pop_file = pd.read_csv(\"pop.phe\", sep='\\s+', header=None)\n",
    "pop_file.head()\n"
   ]
  },
  {
   "cell_type": "code",
   "execution_count": 28,
   "metadata": {},
   "outputs": [],
   "source": [
    "# getting \n",
    "# IDs are the first column\n",
    "# The phenotype encodings are the second column.\n",
    "ids = pop_file[0]\n",
    "pop =  pop_file[2]"
   ]
  },
  {
   "cell_type": "markdown",
   "metadata": {},
   "source": [
    "### Duplicate SNP IDs\n",
    "Since each SNP has to values (one for each chromosome copy) we need to provide each SNP ID with a extra character so we know what SNP we are looking at. Here we add _1 and _2 to each SNP ID."
   ]
  },
  {
   "cell_type": "code",
   "execution_count": 29,
   "metadata": {},
   "outputs": [
    {
     "data": {
      "text/plain": [
       "['rs6681049_1',\n",
       " 'rs6681049_2',\n",
       " 'rs4074137_1',\n",
       " 'rs4074137_2',\n",
       " 'rs7540009_1',\n",
       " 'rs7540009_2',\n",
       " 'rs1891905_1',\n",
       " 'rs1891905_2',\n",
       " 'rs9729550_1',\n",
       " 'rs9729550_2']"
      ]
     },
     "execution_count": 29,
     "metadata": {},
     "output_type": "execute_result"
    }
   ],
   "source": [
    "snp_ids = pd.read_csv(\"hapmap1.map\", sep='\\s+', header=None)[1]\n",
    "snp_ids_diploid = [(x+\"_1\", x+\"_2\") for x in list(snp_ids)]\n",
    "snp_ids_diploid = list(itertools.chain(*snp_ids_diploid))\n",
    "snp_ids_diploid[0:10]"
   ]
  },
  {
   "cell_type": "code",
   "execution_count": 30,
   "metadata": {},
   "outputs": [
    {
     "data": {
      "text/html": [
       "<div>\n",
       "<style scoped>\n",
       "    .dataframe tbody tr th:only-of-type {\n",
       "        vertical-align: middle;\n",
       "    }\n",
       "\n",
       "    .dataframe tbody tr th {\n",
       "        vertical-align: top;\n",
       "    }\n",
       "\n",
       "    .dataframe thead th {\n",
       "        text-align: right;\n",
       "    }\n",
       "</style>\n",
       "<table border=\"1\" class=\"dataframe\">\n",
       "  <thead>\n",
       "    <tr style=\"text-align: right;\">\n",
       "      <th></th>\n",
       "      <th>0</th>\n",
       "      <th>1</th>\n",
       "      <th>2</th>\n",
       "      <th>3</th>\n",
       "      <th>4</th>\n",
       "      <th>5</th>\n",
       "      <th>6</th>\n",
       "      <th>7</th>\n",
       "      <th>8</th>\n",
       "      <th>9</th>\n",
       "    </tr>\n",
       "  </thead>\n",
       "  <tbody>\n",
       "    <tr>\n",
       "      <th>0</th>\n",
       "      <td>HCB181</td>\n",
       "      <td>1</td>\n",
       "      <td>0</td>\n",
       "      <td>0</td>\n",
       "      <td>1</td>\n",
       "      <td>1</td>\n",
       "      <td>2</td>\n",
       "      <td>2</td>\n",
       "      <td>2</td>\n",
       "      <td>2</td>\n",
       "    </tr>\n",
       "    <tr>\n",
       "      <th>1</th>\n",
       "      <td>HCB182</td>\n",
       "      <td>1</td>\n",
       "      <td>0</td>\n",
       "      <td>0</td>\n",
       "      <td>1</td>\n",
       "      <td>1</td>\n",
       "      <td>2</td>\n",
       "      <td>2</td>\n",
       "      <td>1</td>\n",
       "      <td>2</td>\n",
       "    </tr>\n",
       "    <tr>\n",
       "      <th>2</th>\n",
       "      <td>HCB183</td>\n",
       "      <td>1</td>\n",
       "      <td>0</td>\n",
       "      <td>0</td>\n",
       "      <td>1</td>\n",
       "      <td>2</td>\n",
       "      <td>2</td>\n",
       "      <td>2</td>\n",
       "      <td>1</td>\n",
       "      <td>2</td>\n",
       "    </tr>\n",
       "    <tr>\n",
       "      <th>3</th>\n",
       "      <td>HCB184</td>\n",
       "      <td>1</td>\n",
       "      <td>0</td>\n",
       "      <td>0</td>\n",
       "      <td>1</td>\n",
       "      <td>1</td>\n",
       "      <td>2</td>\n",
       "      <td>2</td>\n",
       "      <td>1</td>\n",
       "      <td>2</td>\n",
       "    </tr>\n",
       "    <tr>\n",
       "      <th>4</th>\n",
       "      <td>HCB185</td>\n",
       "      <td>1</td>\n",
       "      <td>0</td>\n",
       "      <td>0</td>\n",
       "      <td>1</td>\n",
       "      <td>1</td>\n",
       "      <td>2</td>\n",
       "      <td>2</td>\n",
       "      <td>1</td>\n",
       "      <td>2</td>\n",
       "    </tr>\n",
       "    <tr>\n",
       "      <th>5</th>\n",
       "      <td>HCB186</td>\n",
       "      <td>1</td>\n",
       "      <td>0</td>\n",
       "      <td>0</td>\n",
       "      <td>1</td>\n",
       "      <td>1</td>\n",
       "      <td>2</td>\n",
       "      <td>2</td>\n",
       "      <td>2</td>\n",
       "      <td>2</td>\n",
       "    </tr>\n",
       "    <tr>\n",
       "      <th>6</th>\n",
       "      <td>HCB187</td>\n",
       "      <td>1</td>\n",
       "      <td>0</td>\n",
       "      <td>0</td>\n",
       "      <td>1</td>\n",
       "      <td>1</td>\n",
       "      <td>2</td>\n",
       "      <td>2</td>\n",
       "      <td>2</td>\n",
       "      <td>2</td>\n",
       "    </tr>\n",
       "    <tr>\n",
       "      <th>7</th>\n",
       "      <td>HCB188</td>\n",
       "      <td>1</td>\n",
       "      <td>0</td>\n",
       "      <td>0</td>\n",
       "      <td>1</td>\n",
       "      <td>1</td>\n",
       "      <td>2</td>\n",
       "      <td>2</td>\n",
       "      <td>1</td>\n",
       "      <td>2</td>\n",
       "    </tr>\n",
       "    <tr>\n",
       "      <th>8</th>\n",
       "      <td>HCB189</td>\n",
       "      <td>1</td>\n",
       "      <td>0</td>\n",
       "      <td>0</td>\n",
       "      <td>1</td>\n",
       "      <td>1</td>\n",
       "      <td>2</td>\n",
       "      <td>2</td>\n",
       "      <td>2</td>\n",
       "      <td>2</td>\n",
       "    </tr>\n",
       "    <tr>\n",
       "      <th>9</th>\n",
       "      <td>HCB190</td>\n",
       "      <td>1</td>\n",
       "      <td>0</td>\n",
       "      <td>0</td>\n",
       "      <td>1</td>\n",
       "      <td>1</td>\n",
       "      <td>2</td>\n",
       "      <td>2</td>\n",
       "      <td>2</td>\n",
       "      <td>2</td>\n",
       "    </tr>\n",
       "  </tbody>\n",
       "</table>\n",
       "</div>"
      ],
      "text/plain": [
       "        0  1  2  3  4  5  6  7  8  9\n",
       "0  HCB181  1  0  0  1  1  2  2  2  2\n",
       "1  HCB182  1  0  0  1  1  2  2  1  2\n",
       "2  HCB183  1  0  0  1  2  2  2  1  2\n",
       "3  HCB184  1  0  0  1  1  2  2  1  2\n",
       "4  HCB185  1  0  0  1  1  2  2  1  2\n",
       "5  HCB186  1  0  0  1  1  2  2  2  2\n",
       "6  HCB187  1  0  0  1  1  2  2  2  2\n",
       "7  HCB188  1  0  0  1  1  2  2  1  2\n",
       "8  HCB189  1  0  0  1  1  2  2  2  2\n",
       "9  HCB190  1  0  0  1  1  2  2  2  2"
      ]
     },
     "execution_count": 30,
     "metadata": {},
     "output_type": "execute_result"
    }
   ],
   "source": [
    "genotype = pd.read_csv(\"hapmap1.ped\", sep=\"\\s+\", header=None)\n",
    "genotype['populations'] = pop\n",
    "genotype.iloc[:10, :10]"
   ]
  },
  {
   "cell_type": "markdown",
   "metadata": {},
   "source": [
    "We now need to adjust the column names to include the individual IDS, phenotypes, and the SNP IDs we just made."
   ]
  },
  {
   "cell_type": "code",
   "execution_count": 31,
   "metadata": {},
   "outputs": [],
   "source": [
    "col_names = [\"individual\", \"X1\", \"X2\", \"X3\", \"X4\", \"phenotype\"] + snp_ids_diploid + ['populations']"
   ]
  },
  {
   "cell_type": "code",
   "execution_count": 32,
   "metadata": {},
   "outputs": [
    {
     "data": {
      "text/html": [
       "<div>\n",
       "<style scoped>\n",
       "    .dataframe tbody tr th:only-of-type {\n",
       "        vertical-align: middle;\n",
       "    }\n",
       "\n",
       "    .dataframe tbody tr th {\n",
       "        vertical-align: top;\n",
       "    }\n",
       "\n",
       "    .dataframe thead th {\n",
       "        text-align: right;\n",
       "    }\n",
       "</style>\n",
       "<table border=\"1\" class=\"dataframe\">\n",
       "  <thead>\n",
       "    <tr style=\"text-align: right;\">\n",
       "      <th></th>\n",
       "      <th>individual</th>\n",
       "      <th>X1</th>\n",
       "      <th>X2</th>\n",
       "      <th>X3</th>\n",
       "      <th>X4</th>\n",
       "      <th>phenotype</th>\n",
       "      <th>rs6681049_1</th>\n",
       "      <th>rs6681049_2</th>\n",
       "      <th>rs4074137_1</th>\n",
       "      <th>rs4074137_2</th>\n",
       "    </tr>\n",
       "  </thead>\n",
       "  <tbody>\n",
       "    <tr>\n",
       "      <th>0</th>\n",
       "      <td>HCB181</td>\n",
       "      <td>1</td>\n",
       "      <td>0</td>\n",
       "      <td>0</td>\n",
       "      <td>1</td>\n",
       "      <td>1</td>\n",
       "      <td>2</td>\n",
       "      <td>2</td>\n",
       "      <td>2</td>\n",
       "      <td>2</td>\n",
       "    </tr>\n",
       "    <tr>\n",
       "      <th>1</th>\n",
       "      <td>HCB182</td>\n",
       "      <td>1</td>\n",
       "      <td>0</td>\n",
       "      <td>0</td>\n",
       "      <td>1</td>\n",
       "      <td>1</td>\n",
       "      <td>2</td>\n",
       "      <td>2</td>\n",
       "      <td>1</td>\n",
       "      <td>2</td>\n",
       "    </tr>\n",
       "    <tr>\n",
       "      <th>2</th>\n",
       "      <td>HCB183</td>\n",
       "      <td>1</td>\n",
       "      <td>0</td>\n",
       "      <td>0</td>\n",
       "      <td>1</td>\n",
       "      <td>2</td>\n",
       "      <td>2</td>\n",
       "      <td>2</td>\n",
       "      <td>1</td>\n",
       "      <td>2</td>\n",
       "    </tr>\n",
       "    <tr>\n",
       "      <th>3</th>\n",
       "      <td>HCB184</td>\n",
       "      <td>1</td>\n",
       "      <td>0</td>\n",
       "      <td>0</td>\n",
       "      <td>1</td>\n",
       "      <td>1</td>\n",
       "      <td>2</td>\n",
       "      <td>2</td>\n",
       "      <td>1</td>\n",
       "      <td>2</td>\n",
       "    </tr>\n",
       "    <tr>\n",
       "      <th>4</th>\n",
       "      <td>HCB185</td>\n",
       "      <td>1</td>\n",
       "      <td>0</td>\n",
       "      <td>0</td>\n",
       "      <td>1</td>\n",
       "      <td>1</td>\n",
       "      <td>2</td>\n",
       "      <td>2</td>\n",
       "      <td>1</td>\n",
       "      <td>2</td>\n",
       "    </tr>\n",
       "    <tr>\n",
       "      <th>5</th>\n",
       "      <td>HCB186</td>\n",
       "      <td>1</td>\n",
       "      <td>0</td>\n",
       "      <td>0</td>\n",
       "      <td>1</td>\n",
       "      <td>1</td>\n",
       "      <td>2</td>\n",
       "      <td>2</td>\n",
       "      <td>2</td>\n",
       "      <td>2</td>\n",
       "    </tr>\n",
       "    <tr>\n",
       "      <th>6</th>\n",
       "      <td>HCB187</td>\n",
       "      <td>1</td>\n",
       "      <td>0</td>\n",
       "      <td>0</td>\n",
       "      <td>1</td>\n",
       "      <td>1</td>\n",
       "      <td>2</td>\n",
       "      <td>2</td>\n",
       "      <td>2</td>\n",
       "      <td>2</td>\n",
       "    </tr>\n",
       "    <tr>\n",
       "      <th>7</th>\n",
       "      <td>HCB188</td>\n",
       "      <td>1</td>\n",
       "      <td>0</td>\n",
       "      <td>0</td>\n",
       "      <td>1</td>\n",
       "      <td>1</td>\n",
       "      <td>2</td>\n",
       "      <td>2</td>\n",
       "      <td>1</td>\n",
       "      <td>2</td>\n",
       "    </tr>\n",
       "    <tr>\n",
       "      <th>8</th>\n",
       "      <td>HCB189</td>\n",
       "      <td>1</td>\n",
       "      <td>0</td>\n",
       "      <td>0</td>\n",
       "      <td>1</td>\n",
       "      <td>1</td>\n",
       "      <td>2</td>\n",
       "      <td>2</td>\n",
       "      <td>2</td>\n",
       "      <td>2</td>\n",
       "    </tr>\n",
       "    <tr>\n",
       "      <th>9</th>\n",
       "      <td>HCB190</td>\n",
       "      <td>1</td>\n",
       "      <td>0</td>\n",
       "      <td>0</td>\n",
       "      <td>1</td>\n",
       "      <td>1</td>\n",
       "      <td>2</td>\n",
       "      <td>2</td>\n",
       "      <td>2</td>\n",
       "      <td>2</td>\n",
       "    </tr>\n",
       "  </tbody>\n",
       "</table>\n",
       "</div>"
      ],
      "text/plain": [
       "  individual  X1  X2  X3  X4  phenotype  rs6681049_1  rs6681049_2  \\\n",
       "0     HCB181   1   0   0   1          1            2            2   \n",
       "1     HCB182   1   0   0   1          1            2            2   \n",
       "2     HCB183   1   0   0   1          2            2            2   \n",
       "3     HCB184   1   0   0   1          1            2            2   \n",
       "4     HCB185   1   0   0   1          1            2            2   \n",
       "5     HCB186   1   0   0   1          1            2            2   \n",
       "6     HCB187   1   0   0   1          1            2            2   \n",
       "7     HCB188   1   0   0   1          1            2            2   \n",
       "8     HCB189   1   0   0   1          1            2            2   \n",
       "9     HCB190   1   0   0   1          1            2            2   \n",
       "\n",
       "   rs4074137_1  rs4074137_2  \n",
       "0            2            2  \n",
       "1            1            2  \n",
       "2            1            2  \n",
       "3            1            2  \n",
       "4            1            2  \n",
       "5            2            2  \n",
       "6            2            2  \n",
       "7            1            2  \n",
       "8            2            2  \n",
       "9            2            2  "
      ]
     },
     "execution_count": 32,
     "metadata": {},
     "output_type": "execute_result"
    }
   ],
   "source": [
    "genotype.columns = col_names\n",
    "genotype.iloc[:10, :10]"
   ]
  },
  {
   "cell_type": "markdown",
   "metadata": {},
   "source": [
    "### Rearrange the columns and set the index of the dataframe to be the individual IDs."
   ]
  },
  {
   "cell_type": "code",
   "execution_count": 33,
   "metadata": {},
   "outputs": [
    {
     "data": {
      "text/html": [
       "<div>\n",
       "<style scoped>\n",
       "    .dataframe tbody tr th:only-of-type {\n",
       "        vertical-align: middle;\n",
       "    }\n",
       "\n",
       "    .dataframe tbody tr th {\n",
       "        vertical-align: top;\n",
       "    }\n",
       "\n",
       "    .dataframe thead th {\n",
       "        text-align: right;\n",
       "    }\n",
       "</style>\n",
       "<table border=\"1\" class=\"dataframe\">\n",
       "  <thead>\n",
       "    <tr style=\"text-align: right;\">\n",
       "      <th></th>\n",
       "      <th>populations</th>\n",
       "      <th>phenotype</th>\n",
       "      <th>X1</th>\n",
       "      <th>X2</th>\n",
       "      <th>X3</th>\n",
       "      <th>X4</th>\n",
       "      <th>rs6681049_1</th>\n",
       "      <th>rs6681049_2</th>\n",
       "      <th>rs4074137_1</th>\n",
       "      <th>rs4074137_2</th>\n",
       "      <th>...</th>\n",
       "      <th>rs2269380_1</th>\n",
       "      <th>rs2269380_2</th>\n",
       "      <th>rs6151412_1</th>\n",
       "      <th>rs6151412_2</th>\n",
       "      <th>rs11912064_1</th>\n",
       "      <th>rs11912064_2</th>\n",
       "      <th>rs1001469_1</th>\n",
       "      <th>rs1001469_2</th>\n",
       "      <th>rs756638_1</th>\n",
       "      <th>rs756638_2</th>\n",
       "    </tr>\n",
       "    <tr>\n",
       "      <th>individual</th>\n",
       "      <th></th>\n",
       "      <th></th>\n",
       "      <th></th>\n",
       "      <th></th>\n",
       "      <th></th>\n",
       "      <th></th>\n",
       "      <th></th>\n",
       "      <th></th>\n",
       "      <th></th>\n",
       "      <th></th>\n",
       "      <th></th>\n",
       "      <th></th>\n",
       "      <th></th>\n",
       "      <th></th>\n",
       "      <th></th>\n",
       "      <th></th>\n",
       "      <th></th>\n",
       "      <th></th>\n",
       "      <th></th>\n",
       "      <th></th>\n",
       "      <th></th>\n",
       "    </tr>\n",
       "  </thead>\n",
       "  <tbody>\n",
       "    <tr>\n",
       "      <th>HCB181</th>\n",
       "      <td>1</td>\n",
       "      <td>1</td>\n",
       "      <td>1</td>\n",
       "      <td>0</td>\n",
       "      <td>0</td>\n",
       "      <td>1</td>\n",
       "      <td>2</td>\n",
       "      <td>2</td>\n",
       "      <td>2</td>\n",
       "      <td>2</td>\n",
       "      <td>...</td>\n",
       "      <td>2</td>\n",
       "      <td>2</td>\n",
       "      <td>2</td>\n",
       "      <td>2</td>\n",
       "      <td>2</td>\n",
       "      <td>2</td>\n",
       "      <td>1</td>\n",
       "      <td>2</td>\n",
       "      <td>2</td>\n",
       "      <td>2</td>\n",
       "    </tr>\n",
       "    <tr>\n",
       "      <th>HCB182</th>\n",
       "      <td>1</td>\n",
       "      <td>1</td>\n",
       "      <td>1</td>\n",
       "      <td>0</td>\n",
       "      <td>0</td>\n",
       "      <td>1</td>\n",
       "      <td>2</td>\n",
       "      <td>2</td>\n",
       "      <td>1</td>\n",
       "      <td>2</td>\n",
       "      <td>...</td>\n",
       "      <td>2</td>\n",
       "      <td>2</td>\n",
       "      <td>2</td>\n",
       "      <td>2</td>\n",
       "      <td>2</td>\n",
       "      <td>2</td>\n",
       "      <td>1</td>\n",
       "      <td>2</td>\n",
       "      <td>2</td>\n",
       "      <td>2</td>\n",
       "    </tr>\n",
       "    <tr>\n",
       "      <th>HCB183</th>\n",
       "      <td>1</td>\n",
       "      <td>2</td>\n",
       "      <td>1</td>\n",
       "      <td>0</td>\n",
       "      <td>0</td>\n",
       "      <td>1</td>\n",
       "      <td>2</td>\n",
       "      <td>2</td>\n",
       "      <td>1</td>\n",
       "      <td>2</td>\n",
       "      <td>...</td>\n",
       "      <td>1</td>\n",
       "      <td>1</td>\n",
       "      <td>2</td>\n",
       "      <td>2</td>\n",
       "      <td>2</td>\n",
       "      <td>2</td>\n",
       "      <td>2</td>\n",
       "      <td>2</td>\n",
       "      <td>1</td>\n",
       "      <td>2</td>\n",
       "    </tr>\n",
       "    <tr>\n",
       "      <th>HCB184</th>\n",
       "      <td>1</td>\n",
       "      <td>1</td>\n",
       "      <td>1</td>\n",
       "      <td>0</td>\n",
       "      <td>0</td>\n",
       "      <td>1</td>\n",
       "      <td>2</td>\n",
       "      <td>2</td>\n",
       "      <td>1</td>\n",
       "      <td>2</td>\n",
       "      <td>...</td>\n",
       "      <td>1</td>\n",
       "      <td>2</td>\n",
       "      <td>2</td>\n",
       "      <td>2</td>\n",
       "      <td>2</td>\n",
       "      <td>2</td>\n",
       "      <td>1</td>\n",
       "      <td>1</td>\n",
       "      <td>1</td>\n",
       "      <td>2</td>\n",
       "    </tr>\n",
       "    <tr>\n",
       "      <th>HCB185</th>\n",
       "      <td>1</td>\n",
       "      <td>1</td>\n",
       "      <td>1</td>\n",
       "      <td>0</td>\n",
       "      <td>0</td>\n",
       "      <td>1</td>\n",
       "      <td>2</td>\n",
       "      <td>2</td>\n",
       "      <td>1</td>\n",
       "      <td>2</td>\n",
       "      <td>...</td>\n",
       "      <td>1</td>\n",
       "      <td>2</td>\n",
       "      <td>2</td>\n",
       "      <td>2</td>\n",
       "      <td>2</td>\n",
       "      <td>2</td>\n",
       "      <td>1</td>\n",
       "      <td>2</td>\n",
       "      <td>2</td>\n",
       "      <td>2</td>\n",
       "    </tr>\n",
       "  </tbody>\n",
       "</table>\n",
       "<p>5 rows × 167074 columns</p>\n",
       "</div>"
      ],
      "text/plain": [
       "            populations  phenotype  X1  X2  X3  X4  rs6681049_1  rs6681049_2  \\\n",
       "individual                                                                     \n",
       "HCB181                1          1   1   0   0   1            2            2   \n",
       "HCB182                1          1   1   0   0   1            2            2   \n",
       "HCB183                1          2   1   0   0   1            2            2   \n",
       "HCB184                1          1   1   0   0   1            2            2   \n",
       "HCB185                1          1   1   0   0   1            2            2   \n",
       "\n",
       "            rs4074137_1  rs4074137_2  ...  rs2269380_1  rs2269380_2  \\\n",
       "individual                            ...                             \n",
       "HCB181                2            2  ...            2            2   \n",
       "HCB182                1            2  ...            2            2   \n",
       "HCB183                1            2  ...            1            1   \n",
       "HCB184                1            2  ...            1            2   \n",
       "HCB185                1            2  ...            1            2   \n",
       "\n",
       "            rs6151412_1  rs6151412_2  rs11912064_1  rs11912064_2  rs1001469_1  \\\n",
       "individual                                                                      \n",
       "HCB181                2            2             2             2            1   \n",
       "HCB182                2            2             2             2            1   \n",
       "HCB183                2            2             2             2            2   \n",
       "HCB184                2            2             2             2            1   \n",
       "HCB185                2            2             2             2            1   \n",
       "\n",
       "            rs1001469_2  rs756638_1  rs756638_2  \n",
       "individual                                       \n",
       "HCB181                2           2           2  \n",
       "HCB182                2           2           2  \n",
       "HCB183                2           1           2  \n",
       "HCB184                1           1           2  \n",
       "HCB185                2           2           2  \n",
       "\n",
       "[5 rows x 167074 columns]"
      ]
     },
     "execution_count": 33,
     "metadata": {},
     "output_type": "execute_result"
    }
   ],
   "source": [
    "#### Here re-sort the column headers so that:\n",
    "# 1- Individual is your index\n",
    "# 2- pop and phenotype are first columns, followed by snp_ids\n",
    "# 3- remove the x columns if there are not needed or rename them to their proper names if they are needed.\n",
    "re_col_names = ['individual', 'populations', 'phenotype', 'X1', 'X2', 'X3', 'X4'] + snp_ids_diploid\n",
    "genotype = genotype[re_col_names]\n",
    "genotype = genotype.set_index('individual')\n",
    "genotype.head()"
   ]
  },
  {
   "cell_type": "markdown",
   "metadata": {},
   "source": [
    "The above restructring allows us to access individual data by using the individual's ID along with the attribute we want. For example, if we want to access individual HCB181 and look at there phenotype, population, and allele for SNP rs6681049 we could do the following:"
   ]
  },
  {
   "cell_type": "code",
   "execution_count": 34,
   "metadata": {},
   "outputs": [
    {
     "data": {
      "text/plain": [
       "populations    1\n",
       "phenotype      1\n",
       "rs6681049_1    2\n",
       "rs6681049_2    2\n",
       "Name: HCB181, dtype: int64"
      ]
     },
     "execution_count": 34,
     "metadata": {},
     "output_type": "execute_result"
    }
   ],
   "source": [
    "genotype.loc['HCB181'][['populations', 'phenotype', 'rs6681049_1', 'rs6681049_2']]"
   ]
  },
  {
   "cell_type": "markdown",
   "metadata": {},
   "source": [
    "Here we can see that individual HCB181 belongs to population 1, has phenotype code 1, and the SNP has a homozygous genotype for the second variant."
   ]
  },
  {
   "cell_type": "code",
   "execution_count": 35,
   "metadata": {},
   "outputs": [],
   "source": [
    "from collections import Counter"
   ]
  },
  {
   "cell_type": "markdown",
   "metadata": {},
   "source": [
    "We can now filter by each population and obtain SNP frequencies. "
   ]
  },
  {
   "cell_type": "code",
   "execution_count": 36,
   "metadata": {},
   "outputs": [],
   "source": [
    "# Filter by population 1 and 2\n",
    "genotypes_pop_1 = genotype[genotype['populations'] == 1]\n",
    "genotypes_pop_2 = genotype[genotype['populations'] == 2]"
   ]
  },
  {
   "cell_type": "code",
   "execution_count": 37,
   "metadata": {},
   "outputs": [],
   "source": [
    "# Define SNP ID we want to look at\n",
    "snp_id = 'rs6681049'\n",
    "\n",
    "# Grab SNP values within each population\n",
    "snp_genotype_pop_1 = genotypes_pop_1[snp_id+\"_1\"].astype('str') +  + genotypes_pop_1[snp_id+\"_2\"].astype('str')\n",
    "snp_genotype_pop_2 = genotypes_pop_2[snp_id+\"_1\"].astype('str') +  + genotypes_pop_2[snp_id+\"_2\"].astype('str')"
   ]
  },
  {
   "cell_type": "code",
   "execution_count": 38,
   "metadata": {},
   "outputs": [],
   "source": [
    "# Count the occurrences of each allele and obtain frequencies\n",
    "genotype_counts_pop_1 = Counter(list(snp_genotype_pop_1))\n",
    "genotype_counts_pop_2 = Counter(list(snp_genotype_pop_2))\n",
    "\n",
    "count_aa_pop_1 = genotype_counts_pop_1['22']\n",
    "count_bb_pop_1 = genotype_counts_pop_1['11']\n",
    "count_ab_pop_1 = genotype_counts_pop_1['12']\n",
    "\n",
    "count_aa_pop_2 = genotype_counts_pop_2['22']\n",
    "count_bb_pop_2 = genotype_counts_pop_2['11']\n",
    "count_ab_pop_2 = genotype_counts_pop_2['12']"
   ]
  },
  {
   "cell_type": "code",
   "execution_count": 39,
   "metadata": {},
   "outputs": [
    {
     "name": "stdout",
     "output_type": "stream",
     "text": [
      "Population 1 Allele 1 freq:  0.7666666666666667\n",
      "Population 1 Allele 2 freq:  0.23333333333333334\n"
     ]
    }
   ],
   "source": [
    "# We then define the number of occurrences by twice the total since we are counting by pairs of alleles\n",
    "total = count_aa_pop_1 + count_bb_pop_1 + count_ab_pop_1\n",
    "A1_frequency = (2*count_aa_pop_1 + count_ab_pop_1) / (2*total)\n",
    "A2_frequency = (2*count_bb_pop_1 + count_ab_pop_1) / (2*total)\n",
    "print('Population 1 Allele 1 freq: ', A1_frequency)\n",
    "print('Population 1 Allele 2 freq: ', A2_frequency)"
   ]
  },
  {
   "cell_type": "code",
   "execution_count": 40,
   "metadata": {},
   "outputs": [
    {
     "name": "stdout",
     "output_type": "stream",
     "text": [
      "Population 2 Allele 1 freq:  0.7888888888888889\n",
      "Population 2 Allele 2 freq:  0.18888888888888888\n"
     ]
    }
   ],
   "source": [
    "A1_frequency = (2*count_aa_pop_2 + count_ab_pop_2) / (2*total)\n",
    "A2_frequency = (2*count_bb_pop_2 + count_ab_pop_2) / (2*total)\n",
    "print('Population 2 Allele 1 freq: ', A1_frequency)\n",
    "print('Population 2 Allele 2 freq: ', A2_frequency)"
   ]
  },
  {
   "cell_type": "markdown",
   "metadata": {},
   "source": [
    "When considering the frequency of SNPs we only consider the minor allele frequency which is the frequency of the allele that occurs less. Thus, in population 1 we see a minor allele frequency of 0.233 and for population 2 we see a minor allele frequency of 0.188 for this particular SNP."
   ]
  },
  {
   "cell_type": "markdown",
   "metadata": {},
   "source": [
    "get_by_pheno will filter the given dataframe by the two phenotypes in the dataset: affected and unaffected."
   ]
  },
  {
   "cell_type": "code",
   "execution_count": 41,
   "metadata": {},
   "outputs": [],
   "source": [
    "def get_by_pheno(df, snp_id):\n",
    "    GT_uf = df[df['phenotype'] == 1][[snp_id+'_1', snp_id+'_2']]\n",
    "    GT_af = df[df['phenotype'] == 2][[snp_id+'_1', snp_id+'_2']]\n",
    "    return GT_uf, GT_af\n",
    "    \n",
    "GT_uf, GT_af = get_by_pheno(genotype, snp_id)"
   ]
  },
  {
   "cell_type": "markdown",
   "metadata": {},
   "source": [
    "get_snp_genotypes takes in the two separate populations and obtains the genotypes as a string for each individual."
   ]
  },
  {
   "cell_type": "code",
   "execution_count": 42,
   "metadata": {},
   "outputs": [],
   "source": [
    "def get_snp_genotypes(unaffected, affected, snp_id):\n",
    "    snp_GT_uf = unaffected[snp_id+\"_1\"].astype('str') + + unaffected[snp_id+\"_2\"].astype('str')\n",
    "    snp_GT_af = affected[snp_id+\"_1\"].astype('str') +  + affected[snp_id+\"_2\"].astype('str')\n",
    "    return snp_GT_uf, snp_GT_af\n",
    "\n",
    "snp_GT_uf, snp_GT_af = get_snp_genotypes(GT_uf, GT_af, snp_id)"
   ]
  },
  {
   "cell_type": "markdown",
   "metadata": {},
   "source": [
    "get_allele_counts functions each look at the genotypes of the unaffected population and the affected population. The counts of each allele is obtained by counting the genotypes and then counting the occurrences of each allele in each genotype."
   ]
  },
  {
   "cell_type": "code",
   "execution_count": 43,
   "metadata": {},
   "outputs": [],
   "source": [
    "def get_allele_counts_uf(uf_genotypes):\n",
    "    genotype_counts_uf = Counter(list(uf_genotypes))\n",
    "    count_aa_GT_uf = genotype_counts_uf['22']\n",
    "    count_bb_GT_uf = genotype_counts_uf['11']\n",
    "    count_ab_GT_uf = genotype_counts_uf['12']\n",
    "    uf_total = 2*(count_aa_GT_uf + count_bb_GT_uf + count_ab_GT_uf)\n",
    "    \n",
    "    return count_aa_GT_uf, count_bb_GT_uf, count_ab_GT_uf, uf_total\n",
    "\n",
    "def get_allele_counts_af(af_genotypes):\n",
    "    genotype_counts_af = Counter(list(af_genotypes))\n",
    "    count_aa_GT_af = genotype_counts_af['22']\n",
    "    count_bb_GT_af = genotype_counts_af['11']\n",
    "    count_ab_GT_af = genotype_counts_af['12']\n",
    "    af_total = 2*(count_aa_GT_af + count_bb_GT_af + count_ab_GT_af)\n",
    "    \n",
    "    return count_aa_GT_af, count_bb_GT_af, count_ab_GT_af, af_total\n",
    "\n",
    "count_aa_GT_uf, count_bb_GT_uf, count_ab_GT_uf, uf_total = get_allele_counts_uf(snp_GT_uf)\n",
    "count_aa_GT_af, count_bb_GT_af, count_ab_GT_af, af_total = get_allele_counts_af(snp_GT_af)"
   ]
  },
  {
   "cell_type": "markdown",
   "metadata": {},
   "source": [
    "get_freqs counts the alleles of the counted genotypes and returns frequencies."
   ]
  },
  {
   "cell_type": "code",
   "execution_count": 44,
   "metadata": {},
   "outputs": [],
   "source": [
    "def get_freqs(a, b, ab, total):\n",
    "    a_count = (2*a + ab) / total\n",
    "    b_count = (2*b + ab) / total\n",
    "    return a_count, b_count\n",
    "\n",
    "total = uf_total + af_total\n",
    "a_uf, b_uf = get_freqs(count_aa_GT_uf, count_bb_GT_uf, count_ab_GT_uf, total)\n",
    "a_af, b_af = get_freqs(count_aa_GT_af, count_bb_GT_af, count_ab_GT_af, total)"
   ]
  },
  {
   "cell_type": "markdown",
   "metadata": {},
   "source": [
    "event_probs gets the probabililities of each possible event (allele 1, allele 2, affected or unaffected)."
   ]
  },
  {
   "cell_type": "code",
   "execution_count": 45,
   "metadata": {},
   "outputs": [],
   "source": [
    "def event_probs(a_af, b_af, a_uf, b_uf):\n",
    "    p_aff = a_af + b_af\n",
    "    p_unaff = a_uf + b_uf\n",
    "    p_a = a_af + a_uf\n",
    "    p_b = b_af + b_uf\n",
    "    return p_aff, p_unaff, p_a, p_b\n",
    "p_aff, p_unaff, p_a, p_b = event_probs(a_af, b_af, a_uf, b_uf)"
   ]
  },
  {
   "cell_type": "markdown",
   "metadata": {},
   "source": [
    "get_expected gets the probabilities of the paired events under the assumption of independence."
   ]
  },
  {
   "cell_type": "code",
   "execution_count": 46,
   "metadata": {},
   "outputs": [],
   "source": [
    "def get_expected(p_aff, p_unaff, p_a, p_b, total):\n",
    "    exp_a_af = p_a * p_aff * (total)\n",
    "    exp_a_uf = p_a * p_unaff * (total)\n",
    "    exp_b_af = p_b * p_aff * (total)\n",
    "    exp_b_uf = p_b * p_unaff * (total)\n",
    "    return exp_a_af, exp_a_uf, exp_b_af, exp_b_uf\n",
    "exp_a_af, exp_a_uf, exp_b_af, exp_b_uf = get_expected(p_aff, p_unaff, p_a, p_b, total)"
   ]
  },
  {
   "cell_type": "markdown",
   "metadata": {},
   "source": [
    "get_counts gets the actual counts of each allele."
   ]
  },
  {
   "cell_type": "code",
   "execution_count": 47,
   "metadata": {},
   "outputs": [],
   "source": [
    "def get_counts(a_uf, b_uf, a_af, b_af, total):\n",
    "    a_count_uf = a_uf * total\n",
    "    a_count_af = a_af * total\n",
    "    b_count_uf = b_uf * total\n",
    "    b_count_af = b_af * total\n",
    "    return a_count_uf, a_count_af, b_count_uf, b_count_af\n",
    "a_count_uf, a_count_af, b_count_uf, b_count_af = get_counts(a_uf, b_uf, a_af, b_af, total)"
   ]
  },
  {
   "cell_type": "markdown",
   "metadata": {},
   "source": [
    "When combining the values from above we can do a basic association test to test for significance of this SNP."
   ]
  },
  {
   "cell_type": "code",
   "execution_count": 48,
   "metadata": {},
   "outputs": [
    {
     "name": "stdout",
     "output_type": "stream",
     "text": [
      "CHISQ:  3.066637047163362\n",
      "P-VAL:  0.21581827959014507\n"
     ]
    }
   ],
   "source": [
    "# Perform Basic Association Test for rs6681049\n",
    "# association test\n",
    "test = stats.chisquare([a_count_uf, b_count_uf, a_count_af, b_count_af], \n",
    "                [exp_a_uf, exp_b_uf, exp_a_af, exp_b_af],\n",
    "                ddof=1,\n",
    "                axis=0)\n",
    "\n",
    "# get p-value\n",
    "print(\"CHISQ: \", test[0])\n",
    "print(\"P-VAL: \", test[1])"
   ]
  },
  {
   "cell_type": "markdown",
   "metadata": {},
   "source": [
    "Now we can combine everything from above to compute the significance of each SNP in the dataset.\n",
    "DO NOT RUN THIS CELL. The file chi_stats is a csv file that contains the computation below. Read that file into a pandas DataFrame."
   ]
  },
  {
   "cell_type": "code",
   "execution_count": 49,
   "metadata": {},
   "outputs": [
    {
     "name": "stdout",
     "output_type": "stream",
     "text": [
      "0\n",
      "1000\n",
      "2000\n",
      "3000\n",
      "4000\n",
      "5000\n",
      "6000\n",
      "7000\n",
      "8000\n",
      "9000\n",
      "10000\n",
      "11000\n",
      "12000\n",
      "13000\n",
      "14000\n",
      "15000\n",
      "16000\n",
      "17000\n",
      "18000\n",
      "19000\n",
      "20000\n",
      "21000\n",
      "22000\n",
      "23000\n",
      "24000\n",
      "25000\n",
      "26000\n",
      "27000\n",
      "28000\n",
      "29000\n",
      "30000\n",
      "31000\n",
      "32000\n",
      "33000\n",
      "34000\n",
      "35000\n",
      "36000\n",
      "37000\n",
      "38000\n",
      "39000\n",
      "40000\n",
      "41000\n",
      "42000\n",
      "43000\n",
      "44000\n",
      "45000\n",
      "46000\n",
      "47000\n",
      "48000\n",
      "49000\n",
      "50000\n",
      "51000\n",
      "52000\n",
      "53000\n",
      "54000\n",
      "55000\n",
      "56000\n",
      "57000\n",
      "58000\n",
      "59000\n",
      "60000\n",
      "61000\n",
      "62000\n",
      "63000\n",
      "64000\n",
      "65000\n",
      "66000\n",
      "67000\n",
      "68000\n",
      "69000\n",
      "70000\n",
      "71000\n",
      "72000\n",
      "73000\n",
      "74000\n",
      "75000\n",
      "76000\n",
      "77000\n",
      "78000\n",
      "79000\n",
      "80000\n",
      "81000\n",
      "82000\n",
      "83000\n"
     ]
    }
   ],
   "source": [
    "snp_chi = []\n",
    "snp_pval = []\n",
    "for i in range(len(snp_ids)):\n",
    "    # get the genotypes of the SNP\n",
    "    genotype_uf, genotype_af = get_by_pheno(genotype, snp_ids[i])\n",
    "    snp_gt_uf, snp_gt_af = get_snp_genotypes(genotype_uf, genotype_af, snp_ids[i])\n",
    "    \n",
    "    # count genotypes and get frequencies\n",
    "    count_aa_GT_uf, count_bb_GT_uf, count_ab_GT_uf, uf_total = get_allele_counts_uf(snp_gt_uf)\n",
    "    count_aa_GT_af, count_bb_GT_af, count_ab_GT_af, af_total = get_allele_counts_af(snp_gt_af)\n",
    "    total = uf_total + af_total\n",
    "    a_uf, b_uf = get_freqs(count_aa_GT_uf, count_bb_GT_uf, count_ab_GT_uf, total)\n",
    "    a_af, b_af = get_freqs(count_aa_GT_af, count_bb_GT_af, count_ab_GT_af, total)\n",
    "    \n",
    "    # compute probabilities and get expected values\n",
    "    p_aff, p_unaff, p_a, p_b = event_probs(a_af, b_af, a_uf, b_uf)\n",
    "    exp_a_af, exp_a_uf, exp_b_af, exp_b_uf = get_expected(p_aff, p_unaff, p_a, p_b, total)\n",
    "    \n",
    "    # get actual counts for test\n",
    "    a_count_uf, a_count_af, b_count_uf, b_count_af = get_counts(a_uf, b_uf, a_af, b_af, total)\n",
    "    \n",
    "    # perform test\n",
    "    test = stats.chisquare([a_count_uf, b_count_uf, a_count_af, b_count_af], \n",
    "                [exp_a_uf, exp_b_uf, exp_a_af, exp_b_af],\n",
    "                ddof=1,\n",
    "                axis=0)\n",
    "    \n",
    "    snp_chi.append(test[0])\n",
    "    snp_pval.append(test[1])\n",
    "    if (i % 1000) == 0:\n",
    "        print(i)"
   ]
  },
  {
   "cell_type": "markdown",
   "metadata": {},
   "source": [
    "This dataframe now contains the SNPs with their chi-square statistics and p-values."
   ]
  },
  {
   "cell_type": "code",
   "execution_count": 59,
   "metadata": {},
   "outputs": [
    {
     "data": {
      "text/html": [
       "<div>\n",
       "<style scoped>\n",
       "    .dataframe tbody tr th:only-of-type {\n",
       "        vertical-align: middle;\n",
       "    }\n",
       "\n",
       "    .dataframe tbody tr th {\n",
       "        vertical-align: top;\n",
       "    }\n",
       "\n",
       "    .dataframe thead th {\n",
       "        text-align: right;\n",
       "    }\n",
       "</style>\n",
       "<table border=\"1\" class=\"dataframe\">\n",
       "  <thead>\n",
       "    <tr style=\"text-align: right;\">\n",
       "      <th></th>\n",
       "      <th>SNP_ID</th>\n",
       "      <th>CHISQ</th>\n",
       "      <th>PVAL</th>\n",
       "    </tr>\n",
       "  </thead>\n",
       "  <tbody>\n",
       "    <tr>\n",
       "      <th>0</th>\n",
       "      <td>rs6681049</td>\n",
       "      <td>3.066637</td>\n",
       "      <td>0.215818</td>\n",
       "    </tr>\n",
       "    <tr>\n",
       "      <th>1</th>\n",
       "      <td>rs4074137</td>\n",
       "      <td>0.001919</td>\n",
       "      <td>0.999041</td>\n",
       "    </tr>\n",
       "    <tr>\n",
       "      <th>2</th>\n",
       "      <td>rs7540009</td>\n",
       "      <td>NaN</td>\n",
       "      <td>NaN</td>\n",
       "    </tr>\n",
       "    <tr>\n",
       "      <th>3</th>\n",
       "      <td>rs1891905</td>\n",
       "      <td>0.015266</td>\n",
       "      <td>0.992396</td>\n",
       "    </tr>\n",
       "    <tr>\n",
       "      <th>4</th>\n",
       "      <td>rs9729550</td>\n",
       "      <td>2.630876</td>\n",
       "      <td>0.268357</td>\n",
       "    </tr>\n",
       "  </tbody>\n",
       "</table>\n",
       "</div>"
      ],
      "text/plain": [
       "      SNP_ID     CHISQ      PVAL\n",
       "0  rs6681049  3.066637  0.215818\n",
       "1  rs4074137  0.001919  0.999041\n",
       "2  rs7540009       NaN       NaN\n",
       "3  rs1891905  0.015266  0.992396\n",
       "4  rs9729550  2.630876  0.268357"
      ]
     },
     "execution_count": 59,
     "metadata": {},
     "output_type": "execute_result"
    }
   ],
   "source": [
    "d = {'SNP_ID': snp_ids, 'CHISQ': snp_chi, 'PVAL': snp_pval}\n",
    "chi_stats = pd.DataFrame(d)\n",
    "chi_stats.head()"
   ]
  },
  {
   "cell_type": "markdown",
   "metadata": {},
   "source": [
    "### Other (adjusted) significance values"
   ]
  },
  {
   "cell_type": "code",
   "execution_count": null,
   "metadata": {},
   "outputs": [],
   "source": []
  },
  {
   "cell_type": "markdown",
   "metadata": {
    "collapsed": true
   },
   "source": [
    "### Mean Chi Square, genomic inflation factor"
   ]
  },
  {
   "cell_type": "code",
   "execution_count": null,
   "metadata": {},
   "outputs": [],
   "source": []
  },
  {
   "cell_type": "markdown",
   "metadata": {},
   "source": [
    "### Genotypic and other association models"
   ]
  },
  {
   "cell_type": "code",
   "execution_count": null,
   "metadata": {},
   "outputs": [],
   "source": []
  },
  {
   "cell_type": "markdown",
   "metadata": {},
   "source": [
    "### Stratification Analysis\n",
    "Here we will perform IBS (Inherited By Descent) clustering. Two individuals are IBS if they have identical nucleotide bases for a particular segment."
   ]
  },
  {
   "cell_type": "code",
   "execution_count": null,
   "metadata": {},
   "outputs": [],
   "source": []
  },
  {
   "cell_type": "code",
   "execution_count": null,
   "metadata": {},
   "outputs": [],
   "source": []
  },
  {
   "cell_type": "code",
   "execution_count": null,
   "metadata": {},
   "outputs": [],
   "source": []
  },
  {
   "cell_type": "code",
   "execution_count": null,
   "metadata": {},
   "outputs": [],
   "source": []
  },
  {
   "cell_type": "code",
   "execution_count": null,
   "metadata": {},
   "outputs": [],
   "source": []
  },
  {
   "cell_type": "code",
   "execution_count": null,
   "metadata": {},
   "outputs": [],
   "source": []
  },
  {
   "cell_type": "code",
   "execution_count": null,
   "metadata": {},
   "outputs": [],
   "source": []
  },
  {
   "cell_type": "code",
   "execution_count": null,
   "metadata": {},
   "outputs": [],
   "source": []
  },
  {
   "cell_type": "code",
   "execution_count": null,
   "metadata": {},
   "outputs": [],
   "source": []
  },
  {
   "cell_type": "code",
   "execution_count": null,
   "metadata": {},
   "outputs": [],
   "source": []
  }
 ],
 "metadata": {
  "kernelspec": {
   "display_name": "Python 3",
   "language": "python",
   "name": "python3"
  },
  "language_info": {
   "codemirror_mode": {
    "name": "ipython",
    "version": 3
   },
   "file_extension": ".py",
   "mimetype": "text/x-python",
   "name": "python",
   "nbconvert_exporter": "python",
   "pygments_lexer": "ipython3",
   "version": "3.7.3"
  }
 },
 "nbformat": 4,
 "nbformat_minor": 2
}
